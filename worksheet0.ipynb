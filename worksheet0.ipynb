{
  "nbformat": 4,
  "nbformat_minor": 0,
  "metadata": {
    "colab": {
      "provenance": []
    },
    "kernelspec": {
      "name": "python3",
      "display_name": "Python 3"
    },
    "language_info": {
      "name": "python"
    }
  },
  "cells": [
    {
      "cell_type": "markdown",
      "source": [
        "ques one"
      ],
      "metadata": {
        "id": "KStvutTXYAc6"
      }
    },
    {
      "cell_type": "code",
      "source": [
        "# takes type and then the actual value to be printed finally then converts accordingly and returns it\n",
        "def convertLength(x,type):\n",
        "  if (type==\"meters\"):\n",
        "    result=x*3.28\n",
        "  elif(type==\"feet\"):\n",
        "    result=x/3.28\n",
        "  return result\n",
        "\n",
        "# takes weight and the type and converts accordingly and returns it\n",
        "def convertWeight(x,type):\n",
        "  if (type==\"kilograms\"):\n",
        "    result=x*2.20\n",
        "  elif(type==\"pounds\"):\n",
        "    result=x/2.20\n",
        "  return result\n",
        "\n",
        "# takes volume and the type and converts accordingly and returns it\n",
        "def convertVolume(x,type):\n",
        "  if (type==\"liters\"):\n",
        "    result=x*3.78\n",
        "  elif(type==\"gallons\"):\n",
        "    result=x/3.78\n",
        "  return result"
      ],
      "metadata": {
        "id": "G3roTbsEPck7"
      },
      "execution_count": null,
      "outputs": []
    },
    {
      "cell_type": "code",
      "execution_count": null,
      "metadata": {
        "colab": {
          "base_uri": "https://localhost:8080/"
        },
        "id": "JfgDF5SyO5Wa",
        "outputId": "b27a34d6-9e14-4022-b872-2cb1131183e5"
      },
      "outputs": [
        {
          "output_type": "stream",
          "name": "stdout",
          "text": [
            "Enter the type of conversion: length, weight, volumelength\n",
            "Enter the value to be converted: 5\n",
            "Enter the type of value your entered: meters,feet,kilograms,pounds,liters,gallonsmeters\n",
            "16.4\n"
          ]
        }
      ],
      "source": [
        "conversion=input(\"Enter the type of conversion: length, weight, volume\")\n",
        "a=input(\"Enter the value to be converted: \")\n",
        "try:\n",
        "    a=int(a)\n",
        "except:\n",
        "    print(\"Invalid input\")\n",
        "type=input(\"Enter the type of value your entered: meters,feet,kilograms,pounds,liters,gallons\")\n",
        "match conversion:\n",
        "  case \"length\":\n",
        "    print(convertLength(a,type))\n",
        "  case \"weight\":\n",
        "    print(convertWeight(a,type))\n",
        "  case \"volume\":\n",
        "    print(convertVolume(a,type))\n"
      ]
    },
    {
      "cell_type": "markdown",
      "source": [
        "ques 2"
      ],
      "metadata": {
        "id": "Hp4QT64_X_EZ"
      }
    },
    {
      "cell_type": "code",
      "source": [
        "def sum(x):\n",
        "  # takes a parameter list and provides the sum of the elements of list\n",
        "  result=0\n",
        "  for x in x:\n",
        "    result+=x\n",
        "  return result\n",
        "\n",
        "def average(x):\n",
        "  # takes a parameter list and returns the average of the elements\n",
        "  result=0\n",
        "  for x in x:\n",
        "    sum+=x\n",
        "  result=sum/len(x)\n",
        "  return result\n",
        "\n",
        "def maximum(x):\n",
        "  # takes a parameter list and returns the maximum of the elements\n",
        "  return max(x)\n",
        "\n",
        "def minimum(x):\n",
        "  # takes a parameter list and returns the maximum of the elements\n",
        "  return min(x)\n"
      ],
      "metadata": {
        "id": "-YVB3ToiR0-U"
      },
      "execution_count": null,
      "outputs": []
    },
    {
      "cell_type": "code",
      "source": [
        "a=input(\"enter list separated by spaces\")\n",
        "try:\n",
        "  list=[int(x) for x in a if x.isnumeric()]\n",
        "except:\n",
        "  print(\"Enter valid numbers\")\n",
        "operation=input(\"Enter operation: sum, average,maximum,minimum\")\n",
        "match operation:\n",
        "  case \"sum\":\n",
        "    print(sum(list))\n",
        "  case \"average\":\n",
        "    print(average(list))\n",
        "  case \"maximum\":\n",
        "    print(maximum(list))\n",
        "  case \"minimum\":\n",
        "    print(minimum(list))\n"
      ],
      "metadata": {
        "colab": {
          "base_uri": "https://localhost:8080/"
        },
        "id": "j84y7IZ1ScbD",
        "outputId": "87443f14-3eee-475a-c2da-12e9f37fa9a0"
      },
      "execution_count": null,
      "outputs": [
        {
          "output_type": "stream",
          "name": "stdout",
          "text": [
            "enter list separated by spaces1 2 3 4 5\n",
            "Enter operation: sum, average,maximum,minimumsum\n",
            "15\n"
          ]
        }
      ]
    },
    {
      "cell_type": "markdown",
      "source": [
        "ques 3"
      ],
      "metadata": {
        "id": "kPVpwqyLX8N5"
      }
    },
    {
      "cell_type": "code",
      "source": [
        "def extract_every_other(lst):\n",
        "  new_list=[x for index,x in enumerate(lst) if index%2==0]\n",
        "  return new_list\n",
        "\n",
        "print(extract_every_other([1,2,3,4,5,6]))"
      ],
      "metadata": {
        "colab": {
          "base_uri": "https://localhost:8080/"
        },
        "id": "T_pWNwgQYDhz",
        "outputId": "e5df2117-902d-453f-de25-1ca1a4f2a11a"
      },
      "execution_count": null,
      "outputs": [
        {
          "output_type": "stream",
          "name": "stdout",
          "text": [
            "[1, 3, 5]\n"
          ]
        }
      ]
    },
    {
      "cell_type": "markdown",
      "source": [
        "ques 4"
      ],
      "metadata": {
        "id": "7CUWnl5ZZ7nh"
      }
    },
    {
      "cell_type": "code",
      "source": [
        "def get_sublist(lst,start,end):\n",
        "  new_list=lst[start:end+1]\n",
        "  return new_list\n",
        "\n",
        "print(get_sublist([1,2,3,4,5,6],2,4))"
      ],
      "metadata": {
        "colab": {
          "base_uri": "https://localhost:8080/"
        },
        "id": "GDSnpAESZ_z5",
        "outputId": "5dda9c50-4e07-411e-d261-3f6704839629"
      },
      "execution_count": null,
      "outputs": [
        {
          "output_type": "stream",
          "name": "stdout",
          "text": [
            "[3, 4, 5]\n"
          ]
        }
      ]
    },
    {
      "cell_type": "markdown",
      "source": [
        "ques5"
      ],
      "metadata": {
        "id": "5QORGvZbaNAD"
      }
    },
    {
      "cell_type": "code",
      "source": [
        "def reverse_list(lst):\n",
        "  new_list=lst[::-1]\n",
        "  return new_list\n",
        "\n",
        "print(reverse_list([1,2,3,4,5,6]))"
      ],
      "metadata": {
        "colab": {
          "base_uri": "https://localhost:8080/"
        },
        "id": "O3Sb8veKaQvp",
        "outputId": "9ce7875c-abf7-40d1-f62b-99cd4ca72cac"
      },
      "execution_count": null,
      "outputs": [
        {
          "output_type": "stream",
          "name": "stdout",
          "text": [
            "[6, 5, 4, 3, 2, 1]\n"
          ]
        }
      ]
    },
    {
      "cell_type": "markdown",
      "source": [
        "ques6"
      ],
      "metadata": {
        "id": "6eycXUc7abZE"
      }
    },
    {
      "cell_type": "code",
      "source": [
        "def remove_first_last(lst):\n",
        "  new_list=lst[1:len(lst)-1]\n",
        "  return new_list\n",
        "\n",
        "print(remove_first_last([1,2,3,4,5]))"
      ],
      "metadata": {
        "colab": {
          "base_uri": "https://localhost:8080/"
        },
        "id": "aCjhHcHnadC9",
        "outputId": "b790fec6-e7d1-486b-da7a-9070f0e1ad98"
      },
      "execution_count": null,
      "outputs": [
        {
          "output_type": "stream",
          "name": "stdout",
          "text": [
            "[2, 3, 4]\n"
          ]
        }
      ]
    },
    {
      "cell_type": "markdown",
      "source": [
        "ques7"
      ],
      "metadata": {
        "id": "XvYn9s10ayY-"
      }
    },
    {
      "cell_type": "code",
      "source": [
        "def get_first_n(lst,n):\n",
        "  new_list=lst[:n]\n",
        "  return new_list\n",
        "\n",
        "print(get_first_n([1,2,3,4,5],3))"
      ],
      "metadata": {
        "colab": {
          "base_uri": "https://localhost:8080/"
        },
        "id": "b80v6IDza0cQ",
        "outputId": "ec7fda41-0f57-49a2-fe0f-a2c481f4dcdb"
      },
      "execution_count": null,
      "outputs": [
        {
          "output_type": "stream",
          "name": "stdout",
          "text": [
            "[1, 2, 3]\n"
          ]
        }
      ]
    },
    {
      "cell_type": "markdown",
      "source": [
        "ques 8"
      ],
      "metadata": {
        "id": "7tJJRAzdbGIY"
      }
    },
    {
      "cell_type": "code",
      "source": [
        "def get_last_n(lst,n):\n",
        "  new_list=lst[len(lst)-n:]\n",
        "  return new_list\n",
        "\n",
        "print(get_last_n([1,2,3,4,5],2))"
      ],
      "metadata": {
        "colab": {
          "base_uri": "https://localhost:8080/"
        },
        "id": "wtXDD7m-bHN6",
        "outputId": "beae2f81-2e54-4fba-d349-e9ea6362d846"
      },
      "execution_count": null,
      "outputs": [
        {
          "output_type": "stream",
          "name": "stdout",
          "text": [
            "[4, 5]\n"
          ]
        }
      ]
    },
    {
      "cell_type": "markdown",
      "source": [
        "ques 9"
      ],
      "metadata": {
        "id": "S61shpDVbWt7"
      }
    },
    {
      "cell_type": "code",
      "source": [
        "def reverse_skip(lst):\n",
        "  new_list=lst[::-1]\n",
        "  new_list=new_list[1::2]\n",
        "  return new_list\n",
        "\n",
        "print(reverse_skip([1,2,3,4,5,6]))"
      ],
      "metadata": {
        "colab": {
          "base_uri": "https://localhost:8080/"
        },
        "id": "PUoQuOC8bYjL",
        "outputId": "aebe2cbf-0fb6-48c1-aff9-cdff8208186a"
      },
      "execution_count": null,
      "outputs": [
        {
          "output_type": "stream",
          "name": "stdout",
          "text": [
            "[5, 3, 1]\n"
          ]
        }
      ]
    },
    {
      "cell_type": "markdown",
      "source": [
        "ques 10"
      ],
      "metadata": {
        "id": "kpn6xoa_cOAo"
      }
    },
    {
      "cell_type": "code",
      "source": [
        "def flatten(lst):\n",
        "  new_list=[]\n",
        "  for x in lst:\n",
        "    for y in x:\n",
        "      new_list.append(y)\n",
        "  return new_list\n",
        "\n",
        "print(flatten([[1,2,3],[4,5,6]]))\n"
      ],
      "metadata": {
        "colab": {
          "base_uri": "https://localhost:8080/"
        },
        "id": "G_mYISBBcPTh",
        "outputId": "b08b5fe1-d21f-49b9-ddd9-574aaca2363c"
      },
      "execution_count": null,
      "outputs": [
        {
          "output_type": "stream",
          "name": "stdout",
          "text": [
            "[1, 2, 3, 4, 5, 6]\n"
          ]
        }
      ]
    },
    {
      "cell_type": "markdown",
      "source": [
        "ques 11"
      ],
      "metadata": {
        "id": "SsWUC7rbcsfX"
      }
    },
    {
      "cell_type": "code",
      "source": [
        "def access_nested_element(lst,indices):\n",
        "  for index in indices:\n",
        "    lst=lst[index]\n",
        "  return lst\n",
        "\n",
        "print(access_nested_element([[1,2,3],[4,5,6],[7,8,9]],[1,2]))\n"
      ],
      "metadata": {
        "id": "oDlDQkFwc7eV",
        "colab": {
          "base_uri": "https://localhost:8080/"
        },
        "outputId": "487135b1-a623-41a7-9352-86cbccb78085"
      },
      "execution_count": null,
      "outputs": [
        {
          "output_type": "stream",
          "name": "stdout",
          "text": [
            "6\n"
          ]
        }
      ]
    },
    {
      "cell_type": "markdown",
      "source": [
        "ques12"
      ],
      "metadata": {
        "id": "BJ0Roj_H_I-t"
      }
    },
    {
      "cell_type": "code",
      "source": [
        "def sum_nested(lst):\n",
        "  sum=0\n",
        "  for x in lst:\n",
        "    if(type(x)==list):\n",
        "      for y in x:\n",
        "        if(type(y)==list):\n",
        "          for z in y:\n",
        "            sum+=z\n",
        "        else:\n",
        "          sum+=y\n",
        "    else:\n",
        "      sum+=x\n",
        "  return sum\n",
        "\n",
        "print(sum_nested([[1, 2], [3, [4, 5]], 6]))"
      ],
      "metadata": {
        "colab": {
          "base_uri": "https://localhost:8080/"
        },
        "id": "jvExoizy_KLh",
        "outputId": "6da71298-e712-4da3-fa9f-f3bc4e463a56"
      },
      "execution_count": null,
      "outputs": [
        {
          "output_type": "stream",
          "name": "stdout",
          "text": [
            "21\n"
          ]
        }
      ]
    },
    {
      "cell_type": "markdown",
      "source": [
        "ques13"
      ],
      "metadata": {
        "id": "kNIOgcyZANOR"
      }
    },
    {
      "cell_type": "code",
      "source": [
        "def remove_element(lst,elem):\n",
        "  for x in lst:\n",
        "    for y in x:\n",
        "      if(y==elem):\n",
        "        x.remove(y)\n",
        "  return lst\n",
        "\n",
        "print(remove_element([[1, 2], [3, 2], [4, 5]],2))"
      ],
      "metadata": {
        "colab": {
          "base_uri": "https://localhost:8080/"
        },
        "id": "3BHkXSoeAOAs",
        "outputId": "8b5febf8-1149-4f0f-8301-be174d8399df"
      },
      "execution_count": null,
      "outputs": [
        {
          "output_type": "stream",
          "name": "stdout",
          "text": [
            "[[1], [3], [4, 5]]\n"
          ]
        }
      ]
    },
    {
      "cell_type": "markdown",
      "source": [
        "ques14"
      ],
      "metadata": {
        "id": "Y9D0c7jaBn8C"
      }
    },
    {
      "cell_type": "code",
      "source": [
        "def find_max(lst):\n",
        "  max=0\n",
        "  for x in lst:\n",
        "    if(type(x)==list):\n",
        "      for y in x:\n",
        "        if(type(y)==list):\n",
        "          for z in y:\n",
        "            if(z>max):\n",
        "              max=z\n",
        "        else:\n",
        "          if(y>max):\n",
        "            max=y\n",
        "    else:\n",
        "      if(x>max):\n",
        "        max=x\n",
        "  return max\n",
        "\n",
        "print(find_max([[1, 2], [3, [4, 5]], 6]))"
      ],
      "metadata": {
        "colab": {
          "base_uri": "https://localhost:8080/"
        },
        "id": "rNlkrslDBo4f",
        "outputId": "75c5b682-e2b8-4afb-8d5d-0908af721573"
      },
      "execution_count": null,
      "outputs": [
        {
          "output_type": "stream",
          "name": "stdout",
          "text": [
            "6\n"
          ]
        }
      ]
    },
    {
      "cell_type": "markdown",
      "source": [
        "ques 15"
      ],
      "metadata": {
        "id": "aLC0bfwyB-RX"
      }
    },
    {
      "cell_type": "code",
      "source": [
        "def count_occurences(lst,elem):\n",
        "  count=0\n",
        "  for x in lst:\n",
        "    for y in x:\n",
        "      if(y==elem):\n",
        "        count+=1\n",
        "  return count\n",
        "\n",
        "print(count_occurences([[1, 2], [3, 2], [4, 2]],2))"
      ],
      "metadata": {
        "colab": {
          "base_uri": "https://localhost:8080/"
        },
        "id": "a7BMCItICd2e",
        "outputId": "58da23e4-53e8-40d8-d633-8a09a51b4ac4"
      },
      "execution_count": null,
      "outputs": [
        {
          "output_type": "stream",
          "name": "stdout",
          "text": [
            "3\n"
          ]
        }
      ]
    },
    {
      "cell_type": "markdown",
      "source": [
        "ques16"
      ],
      "metadata": {
        "id": "-qy-pXc2C7VS"
      }
    },
    {
      "cell_type": "code",
      "source": [
        "def deep_flatten(lst):\n",
        "  new_list=[]\n",
        "  for x in lst:\n",
        "    if(type(x)==list):\n",
        "      for y in x:\n",
        "        if(type(y)==list):\n",
        "          for z in y:\n",
        "            new_list.append(z)\n",
        "        else:\n",
        "          new_list.append(y)\n",
        "    else:\n",
        "      new_list.append(x)\n",
        "\n",
        "  return new_list\n",
        "\n",
        "print(deep_flatten([[1, 2], [3, [4, 5]], 6]))"
      ],
      "metadata": {
        "colab": {
          "base_uri": "https://localhost:8080/"
        },
        "id": "gCIKyn8PC8RN",
        "outputId": "fd3acfea-8fcb-4e2d-c856-3b19f51d6942"
      },
      "execution_count": null,
      "outputs": [
        {
          "output_type": "stream",
          "name": "stdout",
          "text": [
            "[1, 2, 3, 4, 5, 6]\n"
          ]
        }
      ]
    },
    {
      "cell_type": "markdown",
      "source": [
        "ques 17"
      ],
      "metadata": {
        "id": "xn_sNzeQDhMk"
      }
    },
    {
      "cell_type": "code",
      "source": [
        "def average_nested(lst):\n",
        "  avg=0\n",
        "  sum=0\n",
        "  length=0\n",
        "  for x in lst:\n",
        "    for y in x:\n",
        "      sum+=y\n",
        "      length+=1\n",
        "  avg=sum/length\n",
        "  return avg\n",
        "\n",
        "print(average_nested([[1, 2], [3, 4], [5, 6]]))"
      ],
      "metadata": {
        "colab": {
          "base_uri": "https://localhost:8080/"
        },
        "id": "FU-JzUABDihw",
        "outputId": "319f7c3f-f3ba-4848-f691-9ead73f3b50a"
      },
      "execution_count": null,
      "outputs": [
        {
          "output_type": "stream",
          "name": "stdout",
          "text": [
            "3.5\n"
          ]
        }
      ]
    },
    {
      "cell_type": "markdown",
      "source": [
        "ques 18"
      ],
      "metadata": {
        "id": "eWmeooUiEhh-"
      }
    },
    {
      "cell_type": "code",
      "source": [
        "import numpy as np"
      ],
      "metadata": {
        "id": "s-8ONtRVEmC4"
      },
      "execution_count": null,
      "outputs": []
    },
    {
      "cell_type": "code",
      "source": [
        "empty_arr=np.empty(2)\n",
        "one_arr=np.ones((4,2))\n",
        "full_arr=np.full((2,3),5)\n",
        "zerolikearr=np.zeros_like(one_arr)\n",
        "onelikearr=np.ones_like(one_arr)\n",
        "lstarr=np.array([1,2,3,4])\n",
        "print(empty_arr)\n",
        "print(one_arr)\n",
        "print(full_arr)\n",
        "print(zerolikearr)\n",
        "print(onelikearr)\n",
        "print(lstarr)"
      ],
      "metadata": {
        "colab": {
          "base_uri": "https://localhost:8080/"
        },
        "id": "bkMvMZ6MEgjo",
        "outputId": "b062ba5b-7666-4a46-cb0b-183337dafe32"
      },
      "execution_count": null,
      "outputs": [
        {
          "output_type": "stream",
          "name": "stdout",
          "text": [
            "[5.73021895e-300 6.53279850e-310]\n",
            "[[1. 1.]\n",
            " [1. 1.]\n",
            " [1. 1.]\n",
            " [1. 1.]]\n",
            "[[5 5 5]\n",
            " [5 5 5]]\n",
            "[[0. 0.]\n",
            " [0. 0.]\n",
            " [0. 0.]\n",
            " [0. 0.]]\n",
            "[[1. 1.]\n",
            " [1. 1.]\n",
            " [1. 1.]\n",
            " [1. 1.]]\n",
            "[1 2 3 4]\n"
          ]
        }
      ]
    },
    {
      "cell_type": "markdown",
      "source": [
        "ques 19"
      ],
      "metadata": {
        "id": "CX95rxh1FOZn"
      }
    },
    {
      "cell_type": "code",
      "source": [
        "range_arr=np.arange(10,49)\n",
        "matrix=np.arange(0,9).reshape((3,3))\n",
        "eye_matrix=np.eye(3)\n",
        "rand=np.random.random((3,3))\n",
        "mean=rand.mean()\n",
        "rand1=np.random.random((10,10))\n",
        "max=rand1.max()\n",
        "min=rand1.min()\n",
        "zeroarr=np.zeros((10,10))\n",
        "zeroarr[6]=1\n",
        "arr=[1,2,0,0,4,0]\n",
        "reversearr=arr[::-1]\n",
        "arrborder=np.zeros((3,3))\n",
        "arrborder[0,:]=1\n",
        "arrborder[:,0]=1\n",
        "arrborder[:,-1]=1\n",
        "arrborder[-1,:]=1\n",
        "checkerboard=np.zeros((8,8))\n",
        "checkerboard[1::2,::2]=1\n",
        "checkerboard[::2,1::2]=1\n",
        "print(range_arr)\n",
        "print(matrix)\n",
        "print(eye_matrix)\n",
        "print(rand)\n",
        "print(mean)\n",
        "print(rand1)\n",
        "print(max)\n",
        "print(min)\n",
        "print(zeroarr)\n",
        "print(reversearr)\n",
        "print(arrborder)\n",
        "print(checkerboard)"
      ],
      "metadata": {
        "colab": {
          "base_uri": "https://localhost:8080/"
        },
        "id": "PlpRwLm3E4sM",
        "outputId": "7860a033-fe9c-48d3-f5f0-2570b2d8f7b4"
      },
      "execution_count": null,
      "outputs": [
        {
          "output_type": "stream",
          "name": "stdout",
          "text": [
            "[10 11 12 13 14 15 16 17 18 19 20 21 22 23 24 25 26 27 28 29 30 31 32 33\n",
            " 34 35 36 37 38 39 40 41 42 43 44 45 46 47 48]\n",
            "[[0 1 2]\n",
            " [3 4 5]\n",
            " [6 7 8]]\n",
            "[[1. 0. 0.]\n",
            " [0. 1. 0.]\n",
            " [0. 0. 1.]]\n",
            "[[0.52409022 0.51777718 0.31438889]\n",
            " [0.85993692 0.4473734  0.60655443]\n",
            " [0.48406256 0.76237045 0.95992559]]\n",
            "0.6084977382366079\n",
            "[[7.60221843e-01 2.42220142e-01 2.13574424e-01 5.34280109e-01\n",
            "  1.20500402e-01 8.64782862e-03 8.87038662e-01 9.74775122e-02\n",
            "  9.24619698e-01 6.20195144e-01]\n",
            " [6.26596188e-01 7.13842351e-01 7.28054764e-01 4.76756697e-01\n",
            "  4.11731980e-01 9.53215902e-01 6.23431682e-01 6.43117965e-02\n",
            "  1.47375457e-01 9.48350470e-05]\n",
            " [8.70932569e-01 4.64361713e-01 5.46080044e-01 5.72845581e-01\n",
            "  4.13760525e-01 3.94537721e-01 1.75650600e-01 6.18880905e-01\n",
            "  4.79390050e-03 8.46199298e-01]\n",
            " [9.39209599e-03 5.84891630e-01 4.66945379e-01 8.42023213e-01\n",
            "  7.71400596e-01 8.54348466e-01 6.20594613e-01 6.51526752e-01\n",
            "  9.38648457e-01 6.21524147e-01]\n",
            " [4.16077007e-01 6.70063756e-02 1.03380827e-01 9.10534847e-01\n",
            "  4.14947286e-01 1.99558865e-01 9.43385398e-01 6.50882960e-01\n",
            "  1.06120885e-01 6.38862086e-01]\n",
            " [9.57356938e-02 2.27289260e-01 5.49870492e-01 5.67670670e-02\n",
            "  2.94190001e-01 2.21713108e-01 2.44654913e-01 4.20967404e-01\n",
            "  6.70584153e-01 3.65996212e-01]\n",
            " [4.52073516e-01 2.28789225e-01 6.13686297e-01 2.57591834e-01\n",
            "  7.41422538e-01 4.26397635e-01 3.54700902e-01 5.39103942e-02\n",
            "  3.18700785e-01 6.28433997e-02]\n",
            " [2.84955352e-01 2.71174019e-02 6.39697492e-01 1.69069604e-01\n",
            "  3.38110143e-01 2.82170414e-01 1.31349221e-03 2.19441347e-01\n",
            "  4.06688614e-01 8.35339814e-01]\n",
            " [4.05609952e-01 7.68103925e-01 3.62163812e-01 3.92212632e-01\n",
            "  1.11265131e-02 2.14257644e-01 9.91613864e-01 9.45905099e-01\n",
            "  4.71873126e-01 3.81502941e-01]\n",
            " [1.75321768e-01 9.96626488e-01 9.02317065e-01 4.79814209e-01\n",
            "  2.76591514e-01 1.70389756e-01 8.64015722e-01 6.92768219e-01\n",
            "  8.29182504e-01 1.09798514e-02]]\n",
            "0.9966264877722487\n",
            "9.483504700091849e-05\n",
            "[[0. 0. 0. 0. 0. 0. 0. 0. 0. 0.]\n",
            " [0. 0. 0. 0. 0. 0. 0. 0. 0. 0.]\n",
            " [0. 0. 0. 0. 0. 0. 0. 0. 0. 0.]\n",
            " [0. 0. 0. 0. 0. 0. 0. 0. 0. 0.]\n",
            " [0. 0. 0. 0. 0. 0. 0. 0. 0. 0.]\n",
            " [0. 0. 0. 0. 0. 0. 0. 0. 0. 0.]\n",
            " [1. 1. 1. 1. 1. 1. 1. 1. 1. 1.]\n",
            " [0. 0. 0. 0. 0. 0. 0. 0. 0. 0.]\n",
            " [0. 0. 0. 0. 0. 0. 0. 0. 0. 0.]\n",
            " [0. 0. 0. 0. 0. 0. 0. 0. 0. 0.]]\n",
            "[0, 4, 0, 0, 2, 1]\n",
            "[[1. 1. 1.]\n",
            " [1. 0. 1.]\n",
            " [1. 1. 1.]]\n",
            "[[0. 1. 0. 1. 0. 1. 0. 1.]\n",
            " [1. 0. 1. 0. 1. 0. 1. 0.]\n",
            " [0. 1. 0. 1. 0. 1. 0. 1.]\n",
            " [1. 0. 1. 0. 1. 0. 1. 0.]\n",
            " [0. 1. 0. 1. 0. 1. 0. 1.]\n",
            " [1. 0. 1. 0. 1. 0. 1. 0.]\n",
            " [0. 1. 0. 1. 0. 1. 0. 1.]\n",
            " [1. 0. 1. 0. 1. 0. 1. 0.]]\n"
          ]
        }
      ]
    },
    {
      "cell_type": "markdown",
      "source": [
        "ques20"
      ],
      "metadata": {
        "id": "3e6F4-ZhIVxI"
      }
    },
    {
      "cell_type": "code",
      "source": [
        "x = np.array([[1,2],[3,5]])\n",
        "y = np.array([[5,6],[7,8]])\n",
        "v = np.array([9,10])\n",
        "w = np.array([11,12])\n",
        "sum=np.add(x,y)\n",
        "sub=np.subtract(x,y)\n",
        "multiply=np.multiply(x,y)\n",
        "square=np.square(x)\n",
        "vdotw=np.dot(v,w)\n",
        "xdotv=np.dot(x,v)\n",
        "xdoty=np.dot(x,y)\n",
        "rowconcat=np.concatenate((x,y),axis=0)\n",
        "columnconcat=np.concatenate((x,y),axis=1)\n",
        "print(sum)\n",
        "print(sub)\n",
        "print(multiply)\n",
        "print(square)\n",
        "print(vdotw)\n",
        "print(xdotv)\n",
        "print(xdoty)\n",
        "print(rowconcat)\n",
        "print(columnconcat)"
      ],
      "metadata": {
        "colab": {
          "base_uri": "https://localhost:8080/"
        },
        "id": "_eimbaE_EpXc",
        "outputId": "17de2379-c01a-4913-fd64-8581771e8e31"
      },
      "execution_count": null,
      "outputs": [
        {
          "output_type": "stream",
          "name": "stdout",
          "text": [
            "[[ 6  8]\n",
            " [10 13]]\n",
            "[[-4 -4]\n",
            " [-4 -3]]\n",
            "[[ 5 12]\n",
            " [21 40]]\n",
            "[[ 1  4]\n",
            " [ 9 25]]\n",
            "219\n",
            "[29 77]\n",
            "[[19 22]\n",
            " [50 58]]\n",
            "[[1 2]\n",
            " [3 5]\n",
            " [5 6]\n",
            " [7 8]]\n",
            "[[1 2 5 6]\n",
            " [3 5 7 8]]\n"
          ]
        }
      ]
    },
    {
      "cell_type": "markdown",
      "source": [
        "ques21"
      ],
      "metadata": {
        "id": "LTxjLIPsJlM6"
      }
    },
    {
      "cell_type": "code",
      "source": [
        "A = np.array([[3,4],[7,8]])\n",
        "B = np.array([[5,3],[2,1]])\n",
        "ainverse=np.linalg.inv(A)\n",
        "eye=A@ainverse\n",
        "AB=np.matmul(A,B)\n",
        "BA=np.matmul(B,A)\n",
        "At=np.transpose(A)\n",
        "Bt=np.transpose(B)\n",
        "ABt=np.transpose(AB)\n",
        "BtAt=np.matmul(Bt,At)\n",
        "print(eye)\n",
        "print(AB)\n",
        "print(BA)\n",
        "print(ABt)\n",
        "print(BtAt)"
      ],
      "metadata": {
        "colab": {
          "base_uri": "https://localhost:8080/"
        },
        "id": "I6j6czi1JmPZ",
        "outputId": "fb1a7229-c3b3-4620-e2ae-2c94c7798d2b"
      },
      "execution_count": null,
      "outputs": [
        {
          "output_type": "stream",
          "name": "stdout",
          "text": [
            "[[1.00000000e+00 0.00000000e+00]\n",
            " [1.77635684e-15 1.00000000e+00]]\n",
            "[[23 13]\n",
            " [51 29]]\n",
            "[[36 44]\n",
            " [13 16]]\n",
            "[[23 51]\n",
            " [13 29]]\n",
            "[[23 51]\n",
            " [13 29]]\n"
          ]
        }
      ]
    },
    {
      "cell_type": "code",
      "source": [],
      "metadata": {
        "id": "V127m22tKjO6"
      },
      "execution_count": null,
      "outputs": []
    }
  ]
}